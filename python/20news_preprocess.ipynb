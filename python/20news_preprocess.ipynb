{
 "cells": [
  {
   "cell_type": "code",
   "execution_count": 1,
   "metadata": {},
   "outputs": [],
   "source": [
    "import numpy as np\n",
    "from scipy.io import savemat\n",
    "import data"
   ]
  },
  {
   "cell_type": "code",
   "execution_count": 2,
   "metadata": {},
   "outputs": [],
   "source": [
    "# we consider two classes\n",
    "class_0 = ['rec.motorcycles']\n",
    "class_1 = ['rec.sport.hockey']\n",
    "categories = sorted(class_0 + class_1)\n",
    "\n",
    "sparsity_b1 = 0.1\n",
    "sparsity_b2 = 0.002\n",
    "num_words = 100"
   ]
  },
  {
   "cell_type": "code",
   "execution_count": null,
   "metadata": {},
   "outputs": [],
   "source": [
    "print('--- Load the dataset. ---')\n",
    "dataset = data.Text20News(subset='all', categories=categories, remove=(), shuffle=True, random_state=42)\n",
    "\n",
    "print('\\n--- Transform text to a-z (lowercase) and (single) whitespace. ---')\n",
    "dataset.clean_text(num='substitute')\n",
    "\n",
    "print('\\n-- Count words. ---')\n",
    "dataset.vectorize(stop_words='english')\n",
    "\n",
    "print('\\n--- Remove documents containing less than 20 words. ---')\n",
    "dataset.remove_short_documents(nwords=20, vocab='full')\n",
    "\n",
    "print('\\n--- Remove documents containing images. ---')\n",
    "dataset.remove_encoded_images()\n",
    "    \n",
    "print('\\n--- Remove words appearing in more than {} percent and less than {} percent documents. ---'.format(sparsity_b1*100, sparsity_b2*100))\n",
    "dataset.remove_frequent_words(sparsity_b1=sparsity_b1, sparsity_b2=sparsity_b2)\n",
    "\n",
    "print('\\n--- Keep top ' + str(num_words) + ' frequent words. ---')\n",
    "dataset.keep_top_words(num_words, 10)\n",
    "\n",
    "print('\\n--- Remove documents containing less than 5 (selected) words. ---')\n",
    "dataset.remove_short_documents(nwords=5, vocab='selected')\n",
    "\n",
    "print('\\n--- Compute tf-dif. ---')\n",
    "dataset.compute_tfidf()\n",
    "\n",
    "dataset.data_info(show_classes=True)\n",
    "\n",
    "tfidf = dataset.tfidf.astype(float).T.toarray()  # size: (num of words) x (num of documents)"
   ]
  },
  {
   "cell_type": "code",
   "execution_count": null,
   "metadata": {},
   "outputs": [],
   "source": [
    "# convert into 2 classes\n",
    "index2class = {i: dataset.class_names[i] for i in range(len(dataset.class_names))}\n",
    "true_classes = []\n",
    "for i in dataset.labels:\n",
    "    if index2class[i] in class_0:\n",
    "        true_classes.append(0)\n",
    "    else:  # class_1\n",
    "        true_classes.append(1) \n",
    "true_classes = np.array(true_classes)"
   ]
  },
  {
   "cell_type": "code",
   "execution_count": null,
   "metadata": {},
   "outputs": [],
   "source": [
    "data_mat = {'R': tfidf, 'y': true_classes}\n",
    "savemat('20news_10.mat', data_mat)"
   ]
  }
 ],
 "metadata": {
  "kernelspec": {
   "display_name": "Python 3",
   "language": "python",
   "name": "python3"
  },
  "language_info": {
   "codemirror_mode": {
    "name": "ipython",
    "version": 3
   },
   "file_extension": ".py",
   "mimetype": "text/x-python",
   "name": "python",
   "nbconvert_exporter": "python",
   "pygments_lexer": "ipython3",
   "version": "3.7.6"
  }
 },
 "nbformat": 4,
 "nbformat_minor": 4
}
